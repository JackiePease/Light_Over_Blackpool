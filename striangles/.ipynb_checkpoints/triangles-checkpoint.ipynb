{
 "cells": [
  {
   "cell_type": "code",
   "execution_count": 3,
   "metadata": {},
   "outputs": [],
   "source": [
    "from matplotlib import pyplot as plt\n",
    "%matplotlib inline\n"
   ]
  },
  {
   "cell_type": "code",
   "execution_count": 4,
   "metadata": {},
   "outputs": [],
   "source": [
    "import math\n",
    "\n",
    "def tricoords(x, y, width):\n",
    "    return ((x, y), (x+width, y), (x+width/2, y+width*math.sqrt(3)/2))\n",
    "\n",
    "def tricornsplit(x, y, width):\n",
    "    return ((x, y), (x+width/2, y), (x+width/4, y+width*math.sqrt(3)/4))\n",
    "\n",
    "def tricornsplitlevels(x, y, width, n):\n",
    "    tris = [(x, y)]\n",
    "    for i in range(n):\n",
    "        ntris = [ ]\n",
    "        for tx, ty in tris:\n",
    "            ntris.extend(tricornsplit(tx, ty, width))\n",
    "        width = width/2\n",
    "        tris = ntris\n",
    "    return tris"
   ]
  },
  {
   "cell_type": "code",
   "execution_count": 5,
   "metadata": {},
   "outputs": [
    {
     "data": {
      "image/png": "[encoded data removed]",
      "text/plain": [
       "<Figure size 432x288 with 1 Axes>"
      ]
     },
     "metadata": {
      "needs_background": "light"
     },
     "output_type": "display_data"
    }
   ],
   "source": [
    "width = 10\n",
    "n = 2\n",
    "tris = tricornsplitlevels(0,0,width,n)\n",
    "twidth = width/(2**n)\n",
    "for tx, ty in tris:\n",
    "    tc = tricoords(tx, ty, twidth)\n",
    "    plt.plot([tc[0][0], tc[1][0], tc[2][0], tc[0][0]], [tc[0][1], tc[1][1], tc[2][1], tc[0][1]])\n"
   ]
  },
  {
   "cell_type": "code",
   "execution_count": 6,
   "metadata": {},
   "outputs": [],
   "source": [
    "svgtemplate = \"\"\"<?xml version=\"1.0\" encoding=\"UTF-8\" standalone=\"no\"?>\n",
    "<svg\n",
    "   xmlns:svg=\"http://www.w3.org/2000/svg\"\n",
    "   xmlns=\"http://www.w3.org/2000/svg\"\n",
    "   width=\"1510mm\"\n",
    "   height=\"1597mm\"\n",
    "   viewBox=\"-100 -100 1510 1597\">\n",
    "    {stris}\n",
    "</svg>\n",
    "\"\"\"\n",
    "\n",
    "def svgtri(x, y, width):\n",
    "    tc = tricoords(x, y, width)\n",
    "    d = \"M%.3f,%.3fL%.3f,%.3fL%.3f,%.3fZ\" % (tc[0][0], tc[0][1], tc[1][0], tc[1][1], tc[2][0], tc[2][1])\n",
    "    return \"\"\"<path\n",
    "       style=\"opacity:1;fill:none;stroke:#007c00;stroke-width:0.5;stroke-miterlimit:4;stroke-dasharray:none;stroke-opacity:1\"\n",
    "       d=\"%s\" />\\n\"\"\" % d\n",
    "\n",
    "outerwidth = 1120\n",
    "n = 9\n",
    "width = outerwidth - 2*math.sqrt(3)*3\n",
    "svgtris = [ ]\n",
    "svgtris.append(svgtri(0, 0, outerwidth))\n",
    "tris = tricornsplitlevels(math.sqrt(3)*3, 3, width, n)\n",
    "twidth = width/(2**n)\n",
    "for tx, ty in tris:\n",
    "    tc = tricoords(tx, ty, twidth)\n",
    "    svgtris.append(svgtri(tx, ty, twidth))\n",
    "    \n",
    "fout = open(\"test5.svg\", \"w\")\n",
    "stris = \"\".join(svgtris)\n",
    "fout.write(svgtemplate.format(stris=stris))\n",
    "fout.close()\n"
   ]
  },
  {
   "cell_type": "code",
   "execution_count": 16,
   "metadata": {},
   "outputs": [],
   "source": [
    "# with fill\n",
    "svgtemplate = \"\"\"<?xml version=\"1.0\" encoding=\"UTF-8\" standalone=\"no\"?>\n",
    "<svg\n",
    "   xmlns:svg=\"http://www.w3.org/2000/svg\"\n",
    "   xmlns=\"http://www.w3.org/2000/svg\"\n",
    "   width=\"1510mm\"\n",
    "   height=\"1597mm\"\n",
    "   viewBox=\"-100 -100 1510 1597\">\n",
    "    {stris}\n",
    "</svg>\n",
    "\"\"\"\n",
    "\n",
    "def svgtri(x, y, width):\n",
    "    tc = tricoords(x, y, width)\n",
    "    d = \"M%.3f,%.3fL%.3f,%.3fL%.3f,%.3fZ\" % (tc[0][0], tc[0][1], tc[1][0], tc[1][1], tc[2][0], tc[2][1])\n",
    "    return \"\"\"<path\n",
    "       style=\"opacity:1;fill:#000000;stroke:none;stroke-width:0.5;stroke-miterlimit:4;stroke-dasharray:none;stroke-opacity:1\"\n",
    "       d=\"%s\" />\\n\"\"\" % d\n",
    "\n",
    "def svgtriwhite(x, y, width):\n",
    "    tc = tricoords(x, y, width)\n",
    "    d = \"M%.3f,%.3fL%.3f,%.3fL%.3f,%.3fZ\" % (tc[0][0], tc[0][1], tc[1][0], tc[1][1], tc[2][0], tc[2][1])\n",
    "    return \"\"\"<path\n",
    "       style=\"opacity:1;fill:#ffffff;stroke:none;stroke-width:0.5;stroke-miterlimit:4;stroke-dasharray:none;stroke-opacity:1\"\n",
    "       d=\"%s\" />\\n\"\"\" % d\n",
    "\n",
    "outerwidth = 1120\n",
    "n = 9\n",
    "width = outerwidth - 2*math.sqrt(3)*3\n",
    "svgtris = [ ]\n",
    "svgtris.append(svgtriwhite(0, 0, outerwidth))\n",
    "tris = tricornsplitlevels(math.sqrt(3)*3, 3, width, n)\n",
    "twidth = width/(2**n)\n",
    "for tx, ty in tris:\n",
    "    tc = tricoords(tx, ty, twidth)\n",
    "    svgtris.append(svgtri(tx, ty, twidth))\n",
    "    \n",
    "fout = open(\"blackandwhite.svg\", \"w\")\n",
    "stris = \"\".join(svgtris)\n",
    "fout.write(svgtemplate.format(stris=stris))\n",
    "fout.close()\n",
    "\n"
   ]
  },
  {
   "cell_type": "code",
   "execution_count": null,
   "metadata": {},
   "outputs": [],
   "source": []
  }
 ],
 "metadata": {
  "kernelspec": {
   "display_name": "Python 3",
   "language": "python",
   "name": "python3"
  },
  "language_info": {
   "codemirror_mode": {
    "name": "ipython",
    "version": 3
   },
   "file_extension": ".py",
   "mimetype": "text/x-python",
   "name": "python",
   "nbconvert_exporter": "python",
   "pygments_lexer": "ipython3",
   "version": "3.7.3"
  }
 },
 "nbformat": 4,
 "nbformat_minor": 2
}
